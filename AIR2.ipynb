{
 "cells": [
  {
   "cell_type": "code",
   "execution_count": 1,
   "id": "0d638630-51fa-42a6-a115-62493259574b",
   "metadata": {},
   "outputs": [],
   "source": [
    "from nltk.chat.util import Chat, reflections"
   ]
  },
  {
   "cell_type": "code",
   "execution_count": 2,
   "id": "e8461339-57af-4cb7-9420-9c4fa04ffe79",
   "metadata": {},
   "outputs": [],
   "source": [
    "pairs = [\n",
    "            [\n",
    "                r\"my name is(.*)\",\n",
    "                [\"Hello %1, how are you today?\",]\n",
    "            ],\n",
    "            [\n",
    "                r\"what is your name?\",\n",
    "                [\"My name is Jarvis and I will help you with your finacial queries today.\",]\n",
    "            ],\n",
    "            [\n",
    "                r\"where to put(.*)money\",\n",
    "                [\"Basically there are many options to invest- 1.Regional and 2.Stocks.\\nIn which section would you like to invest?\",]\n",
    "            ],\n",
    "            [\n",
    "                r\"Regional(.*)\",\n",
    "                [\"There are many- SBI,HSBC,DB. Which bank would you like to go for?\",]\n",
    "            ],\n",
    "            [\n",
    "                r\"SBI(.*)\",\n",
    "                [\"SBI offers 10 percent Interest.\",]\n",
    "            ],\n",
    "            [\n",
    "                r\"DB(.*)\",\n",
    "                [\"DB offers 09 percent Interest.\",]\n",
    "            ],\n",
    "            [\n",
    "                r\"HSBC(.*)\",\n",
    "                [\"HSBC offers 11 percent Interest.\",]\n",
    "            ],\n",
    "            [\n",
    "                r\"(.*)Stocks(.*)\",\n",
    "                [\"We have 2 companies to offer: 1. AAA 2. BBB.\\n choose any one to know more.\\n\",]\n",
    "            ],\n",
    "            [\n",
    "                r\"AAA(.*)\",\n",
    "                [\"The company AAA has a ROI = 10 percent\",]\n",
    "            ],\n",
    "            [\n",
    "                r\"BBB(.*)\",\n",
    "                [\"The company BBB has a ROI = 12 percent\",]\n",
    "            ],\n",
    "            [\n",
    "                r\"hi|hey|hello(.*)\",\n",
    "                [\"Hello\", \"Hey there\",]\n",
    "            ],\n",
    "            [\n",
    "                r\"quit\",\n",
    "                [\"Signing out, see you again ^_^\",]\n",
    "            ],\n",
    "        ]"
   ]
  },
  {
   "cell_type": "code",
   "execution_count": 3,
   "id": "d3205865-b769-44a3-803a-389fe58592ff",
   "metadata": {},
   "outputs": [],
   "source": [
    "def chatbot():\n",
    "    '''Chat is the class that contains all the logic to be used by the chatbot,\n",
    "    reflections is a predefined dictionary containing a set of input values and it's corresponding output values\n",
    "    '''\n",
    "    print(\"Booting up...\\nHey I am a simple ChatBot made with NLTK library.\\n Please type in English language (lower case) what you want to ask me.\\nPress Q to exit\")\n",
    "    chat = Chat(pairs, reflections)\n",
    "    chat.converse()"
   ]
  },
  {
   "cell_type": "code",
   "execution_count": 4,
   "id": "2f7e87fd-1467-4503-8d89-64ed7fe5014e",
   "metadata": {},
   "outputs": [
    {
     "name": "stdout",
     "output_type": "stream",
     "text": [
      "Booting up...\n",
      "Hey I am a simple ChatBot made with NLTK library.\n",
      " Please type in English language (lower case) what you want to ask me.\n",
      "Press Q to exit\n"
     ]
    },
    {
     "name": "stdin",
     "output_type": "stream",
     "text": [
      "> Hiii\n"
     ]
    },
    {
     "name": "stdout",
     "output_type": "stream",
     "text": [
      "Hello\n"
     ]
    },
    {
     "name": "stdin",
     "output_type": "stream",
     "text": [
      "> what is your name\n"
     ]
    },
    {
     "name": "stdout",
     "output_type": "stream",
     "text": [
      "My name is Jarvis and I will help you with your finacial queries today.\n"
     ]
    },
    {
     "name": "stdin",
     "output_type": "stream",
     "text": [
      "> my name is sanket\n"
     ]
    },
    {
     "name": "stdout",
     "output_type": "stream",
     "text": [
      "Hello  sanket, how are you today?\n"
     ]
    },
    {
     "name": "stdin",
     "output_type": "stream",
     "text": [
      "> finr\n"
     ]
    },
    {
     "name": "stdout",
     "output_type": "stream",
     "text": [
      "None\n"
     ]
    },
    {
     "name": "stdin",
     "output_type": "stream",
     "text": [
      "> fine\n"
     ]
    },
    {
     "name": "stdout",
     "output_type": "stream",
     "text": [
      "None\n"
     ]
    },
    {
     "name": "stdin",
     "output_type": "stream",
     "text": [
      "> I am fine how about you\n"
     ]
    },
    {
     "name": "stdout",
     "output_type": "stream",
     "text": [
      "None\n"
     ]
    },
    {
     "name": "stdin",
     "output_type": "stream",
     "text": [
      "> where can I put my money\n"
     ]
    },
    {
     "name": "stdout",
     "output_type": "stream",
     "text": [
      "None\n"
     ]
    },
    {
     "name": "stdin",
     "output_type": "stream",
     "text": [
      "> where to put money\n"
     ]
    },
    {
     "name": "stdout",
     "output_type": "stream",
     "text": [
      "Basically there are many options to invest- 1.Regional and 2.Stocks.\n",
      "In which section would you like to invest?\n"
     ]
    },
    {
     "name": "stdin",
     "output_type": "stream",
     "text": [
      "> regional\n"
     ]
    },
    {
     "name": "stdout",
     "output_type": "stream",
     "text": [
      "There are many- SBI,HSBC,DB. Which bank would you like to go for?\n"
     ]
    },
    {
     "name": "stdin",
     "output_type": "stream",
     "text": [
      "> hsbc\n"
     ]
    },
    {
     "name": "stdout",
     "output_type": "stream",
     "text": [
      "HSBC offers 11 percent Interest.\n"
     ]
    },
    {
     "name": "stdin",
     "output_type": "stream",
     "text": [
      "> socks\n"
     ]
    },
    {
     "name": "stdout",
     "output_type": "stream",
     "text": [
      "None\n"
     ]
    },
    {
     "name": "stdin",
     "output_type": "stream",
     "text": [
      "> stocks\n"
     ]
    },
    {
     "name": "stdout",
     "output_type": "stream",
     "text": [
      "We have 2 companies to offer: 1. AAA 2. BBB.\n",
      " choose any one to know more.\n",
      "\n"
     ]
    },
    {
     "name": "stdin",
     "output_type": "stream",
     "text": [
      "> aaa\n"
     ]
    },
    {
     "name": "stdout",
     "output_type": "stream",
     "text": [
      "The company AAA has a ROI = 10 percent\n"
     ]
    },
    {
     "name": "stdin",
     "output_type": "stream",
     "text": [
      "> q\n"
     ]
    },
    {
     "name": "stdout",
     "output_type": "stream",
     "text": [
      "None\n"
     ]
    },
    {
     "name": "stdin",
     "output_type": "stream",
     "text": [
      "> Q\n"
     ]
    },
    {
     "name": "stdout",
     "output_type": "stream",
     "text": [
      "None\n"
     ]
    },
    {
     "name": "stdin",
     "output_type": "stream",
     "text": [
      "> quit\n"
     ]
    },
    {
     "name": "stdout",
     "output_type": "stream",
     "text": [
      "Signing out, see you again ^_^\n"
     ]
    }
   ],
   "source": [
    "chatbot()"
   ]
  },
  {
   "cell_type": "code",
   "execution_count": null,
   "id": "574213e4-aa11-4441-af6b-e52a3a81b69f",
   "metadata": {},
   "outputs": [],
   "source": []
  }
 ],
 "metadata": {
  "kernelspec": {
   "display_name": "Python 3 (ipykernel)",
   "language": "python",
   "name": "python3"
  },
  "language_info": {
   "codemirror_mode": {
    "name": "ipython",
    "version": 3
   },
   "file_extension": ".py",
   "mimetype": "text/x-python",
   "name": "python",
   "nbconvert_exporter": "python",
   "pygments_lexer": "ipython3",
   "version": "3.8.10"
  }
 },
 "nbformat": 4,
 "nbformat_minor": 5
}
